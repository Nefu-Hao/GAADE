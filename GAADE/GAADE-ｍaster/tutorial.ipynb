{
 "cells": [
  {
   "cell_type": "code",
   "execution_count": 1,
   "metadata": {},
   "outputs": [],
   "source": [
    "import warnings\n",
    "warnings.filterwarnings(\"ignore\")"
   ]
  },
  {
   "cell_type": "code",
   "execution_count": 2,
   "metadata": {},
   "outputs": [],
   "source": [
    "import os,csv,re\n",
    "import pandas as pd\n",
    "import numpy as np\n",
    "import scanpy as sc\n",
    "import math\n",
    "import SpaGCN as spg\n",
    "from scipy.sparse import issparse\n",
    "import random, torch\n",
    "import warnings\n",
    "warnings.filterwarnings(\"ignore\")\n",
    "import matplotlib.colors as clr\n",
    "import matplotlib.pyplot as plt\n",
    "import SpaGCN as spg\n",
    "import cv2\n",
    "import os\n",
    "import sys"
   ]
  },
  {
   "cell_type": "code",
   "execution_count": 3,
   "metadata": {},
   "outputs": [],
   "source": [
    "from sklearn.metrics.cluster import adjusted_rand_score"
   ]
  },
  {
   "cell_type": "code",
   "execution_count": 4,
   "metadata": {},
   "outputs": [],
   "source": [
    "# the location of R (used for the mclust clustering)\n",
    "# os.environ['R_HOME'] = 'D:\\Program Files\\R\\R-4.0.3'\n",
    "os.environ['R_HOME'] = '/home/miniconda3/envs/3.7/lib/R/'\n",
    "# os.environ['R_USER'] = 'D:\\ProgramData\\Anaconda3\\Lib\\site-packages\\rpy2'\n",
    "os.environ['R_USER'] = '/home/miniconda3/envs/3.7/lib/python3.7/site-packages/rpy2'"
   ]
  },
  {
   "cell_type": "code",
   "execution_count": 5,
   "metadata": {},
   "outputs": [],
   "source": [
    "#Read in gene expression and spatial location\n",
    "adata1=sc.read(\"../dataset/DLPFC/151673/sample_data.h5ad\")\n",
    "#Read in hitology image\n",
    "img=cv2.imread(\"../dataset/DLPFC/151673/histology.tif\")"
   ]
  },
  {
   "cell_type": "code",
   "execution_count": 6,
   "metadata": {},
   "outputs": [],
   "source": [
    "section_id = '151673'"
   ]
  },
  {
   "cell_type": "code",
   "execution_count": 7,
   "metadata": {},
   "outputs": [],
   "source": [
    "input_dir = os.path.join('../dataset/DLPFC', section_id)\n",
    "adata = sc.read_visium(path=input_dir, count_file=section_id+'_filtered_feature_bc_matrix.h5')\n",
    "adata.var_names_make_unique()"
   ]
  },
  {
   "cell_type": "code",
   "execution_count": 8,
   "metadata": {},
   "outputs": [],
   "source": [
    "adata.obs = adata.obs.rename(columns={'array_row': 'x_array'})\n",
    "adata.obs = adata.obs.rename(columns={'array_col': 'y_array'})"
   ]
  },
  {
   "cell_type": "code",
   "execution_count": 10,
   "metadata": {},
   "outputs": [
    {
     "data": {
      "text/plain": [
       "True"
      ]
     },
     "execution_count": 10,
     "metadata": {},
     "output_type": "execute_result"
    }
   ],
   "source": [
    "adata.obs[\"x_pixel\"]=adata1.obs[\"x4\"]\n",
    "adata.obs[\"y_pixel\"]=adata1.obs[\"x5\"]\n",
    "x_array=adata.obs[\"x_array\"].tolist()\n",
    "y_array=adata.obs[\"y_array\"].tolist()\n",
    "x_pixel=adata.obs[\"x_pixel\"].tolist()\n",
    "y_pixel=adata.obs[\"y_pixel\"].tolist()\n",
    "\n",
    "#Test coordinates on the image\n",
    "img_new=img.copy()\n",
    "for i in range(len(x_pixel)):\n",
    "    x=x_pixel[i]\n",
    "    y=y_pixel[i]\n",
    "    img_new[int(x-20):int(x+20), int(y-20):int(y+20),:]=0\n",
    "\n",
    "cv2.imwrite('../dataset/DLPFC/151673/map.jpg', img_new)"
   ]
  },
  {
   "cell_type": "code",
   "execution_count": 12,
   "metadata": {},
   "outputs": [],
   "source": [
    "#将adata存成raw文件(.h5ad)用于识别SVG\n",
    "adata.write(\"../dataset/DLPFC/151673/processed_data.h5ad\")\n"
   ]
  },
  {
   "cell_type": "code",
   "execution_count": 13,
   "metadata": {},
   "outputs": [],
   "source": [
    "#Normalization\n",
    "sc.pp.highly_variable_genes(adata, flavor=\"seurat_v3\", n_top_genes=3000)  \n",
    "sc.pp.normalize_total(adata, target_sum=1e4)\n",
    "sc.pp.log1p(adata)"
   ]
  },
  {
   "cell_type": "code",
   "execution_count": 14,
   "metadata": {},
   "outputs": [],
   "source": [
    "# read the annotation\n",
    "Ann_df = pd.read_csv(os.path.join('../dataset/DLPFC', section_id, section_id+'_truth.txt'), sep='\\t', header=None, index_col=0)\n",
    "Ann_df.columns = ['Ground Truth']"
   ]
  },
  {
   "cell_type": "markdown",
   "metadata": {},
   "source": [
    "## Constructing the spatial network"
   ]
  },
  {
   "cell_type": "code",
   "execution_count": 17,
   "metadata": {},
   "outputs": [],
   "source": [
    "import sys\n",
    "import os"
   ]
  },
  {
   "cell_type": "code",
   "execution_count": 18,
   "metadata": {},
   "outputs": [
    {
     "name": "stdout",
     "output_type": "stream",
     "text": [
      "WARNING:tensorflow:From /home/tjzhang02/miniconda3/envs/3.7/lib/python3.7/site-packages/tensorflow_core/python/compat/v2_compat.py:68: disable_resource_variables (from tensorflow.python.ops.variable_scope) is deprecated and will be removed in a future version.\n",
      "Instructions for updating:\n",
      "non-resource variables are not supported in the long term\n"
     ]
    }
   ],
   "source": [
    "import utils\n",
    "import Train_STAGATE"
   ]
  },
  {
   "cell_type": "code",
   "execution_count": 19,
   "metadata": {},
   "outputs": [
    {
     "name": "stdout",
     "output_type": "stream",
     "text": [
      "------Calculating spatial graph...\n",
      "The graph contains 21124 edges, 3639 cells.\n",
      "5.8049 neighbors per cell on average.\n"
     ]
    },
    {
     "data": {
      "image/png": "[encoded data removed]",
      "text/plain": [
       "<Figure size 300x200 with 1 Axes>"
      ]
     },
     "metadata": {},
     "output_type": "display_data"
    }
   ],
   "source": [
    "utils.Cal_Spatial_Net(adata, rad_cutoff=150)\n",
    "utils.Stats_Spatial_Net(adata)"
   ]
  },
  {
   "cell_type": "code",
   "execution_count": 21,
   "metadata": {},
   "outputs": [
    {
     "name": "stdout",
     "output_type": "stream",
     "text": [
      "Size of Input:  (3639, 3000)\n",
      "WARNING:tensorflow:From /home/tjzhang02/miniconda3/envs/3.7/lib/python3.7/site-packages/tensorflow_core/python/ops/math_grad.py:1375: where (from tensorflow.python.ops.array_ops) is deprecated and will be removed in a future version.\n",
      "Instructions for updating:\n",
      "Use tf.where in 2.0, which has the same broadcast rule as np.where\n"
     ]
    },
    {
     "name": "stderr",
     "output_type": "stream",
     "text": [
      "2024-07-14 15:58:05.445009: I tensorflow/core/platform/cpu_feature_guard.cc:142] Your CPU supports instructions that this TensorFlow binary was not compiled to use: AVX2 AVX512F FMA\n",
      "2024-07-14 15:58:05.453408: I tensorflow/core/platform/profile_utils/cpu_utils.cc:94] CPU Frequency: 2900000000 Hz\n",
      "2024-07-14 15:58:05.456019: I tensorflow/compiler/xla/service/service.cc:168] XLA service 0x5641f443c690 initialized for platform Host (this does not guarantee that XLA will be used). Devices:\n",
      "2024-07-14 15:58:05.456056: I tensorflow/compiler/xla/service/service.cc:176]   StreamExecutor device (0): Host, Default Version\n",
      "2024-07-14 15:58:05.457271: I tensorflow/stream_executor/platform/default/dso_loader.cc:44] Successfully opened dynamic library libcuda.so.1\n",
      "2024-07-14 15:58:05.479882: E tensorflow/stream_executor/cuda/cuda_driver.cc:318] failed call to cuInit: CUDA_ERROR_NO_DEVICE: no CUDA-capable device is detected\n",
      "2024-07-14 15:58:05.480205: I tensorflow/stream_executor/cuda/cuda_diagnostics.cc:169] retrieving CUDA diagnostic information for host: localhost.localdomain\n",
      "2024-07-14 15:58:05.480232: I tensorflow/stream_executor/cuda/cuda_diagnostics.cc:176] hostname: localhost.localdomain\n",
      "2024-07-14 15:58:05.480417: I tensorflow/stream_executor/cuda/cuda_diagnostics.cc:200] libcuda reported version is: 460.106.0\n",
      "2024-07-14 15:58:05.480538: I tensorflow/stream_executor/cuda/cuda_diagnostics.cc:204] kernel reported version is: 460.106.0\n",
      "2024-07-14 15:58:05.480564: I tensorflow/stream_executor/cuda/cuda_diagnostics.cc:310] kernel version seems to match DSO: 460.106.0\n",
      "100%|██████████| 500/500 [01:33<00:00,  5.36it/s]\n"
     ]
    }
   ],
   "source": [
    "adata = Train_STAGATE.train_STAGATE(adata, alpha=0)"
   ]
  },
  {
   "cell_type": "code",
   "execution_count": 22,
   "metadata": {},
   "outputs": [
    {
     "name": "stdout",
     "output_type": "stream",
     "text": [
      "(3639, 33538)\n",
      "AnnData object with n_obs × n_vars = 3639 × 33538\n",
      "    obs: 'in_tissue', 'x_array', 'y_array', 'x_pixel', 'y_pixel', 'Ground Truth'\n",
      "    var: 'gene_ids', 'feature_types', 'genome', 'highly_variable', 'highly_variable_rank', 'means', 'variances', 'variances_norm'\n",
      "    uns: 'spatial', 'hvg', 'log1p', 'Ground Truth_colors', 'Spatial_Net'\n",
      "    obsm: 'spatial', 'STAGATE'\n"
     ]
    }
   ],
   "source": [
    "print(adata.shape)\n",
    "print(adata)"
   ]
  },
  {
   "cell_type": "code",
   "execution_count": 23,
   "metadata": {},
   "outputs": [
    {
     "name": "stderr",
     "output_type": "stream",
     "text": [
      "R[write to console]:                    __           __ \n",
      "   ____ ___  _____/ /_  _______/ /_\n",
      "  / __ `__ \\/ ___/ / / / / ___/ __/\n",
      " / / / / / / /__/ / /_/ (__  ) /_  \n",
      "/_/ /_/ /_/\\___/_/\\__,_/____/\\__/   version 6.0.0\n",
      "Type 'citation(\"mclust\")' for citing this R package in publications.\n",
      "\n"
     ]
    },
    {
     "name": "stdout",
     "output_type": "stream",
     "text": [
      "fitting ...\n",
      "  |======================================================================| 100%\n"
     ]
    }
   ],
   "source": [
    "'''\n",
    "在单细胞RNA测序数据上执行降维、计算邻居关系并进行聚类。最终adata对象将包含降维后的数据、UMAP坐标和聚类结果\n",
    "'''\n",
    "sc.pp.neighbors(adata, use_rep='STAGATE')\n",
    "sc.tl.umap(adata)\n",
    "adata = utils.mclust_R(adata, used_obsm='STAGATE', num_cluster=7)"
   ]
  },
  {
   "cell_type": "code",
   "execution_count": 25,
   "metadata": {},
   "outputs": [
    {
     "name": "stdout",
     "output_type": "stream",
     "text": [
      "Adjusted rand index = 0.60\n"
     ]
    }
   ],
   "source": [
    "obs_df = adata.obs.dropna()\n",
    "ARI = adjusted_rand_score(obs_df['mclust'], obs_df['Ground Truth'])\n",
    "print('Adjusted rand index = %.2f' %ARI)"
   ]
  },
  {
   "cell_type": "code",
   "execution_count": 33,
   "metadata": {},
   "outputs": [],
   "source": [
    "mclust_array = adata.obs[\"mclust\"].to_numpy(dtype=np.int64)"
   ]
  },
  {
   "cell_type": "markdown",
   "metadata": {},
   "source": [
    "## Indentify SVGs"
   ]
  },
  {
   "cell_type": "code",
   "execution_count": 35,
   "metadata": {},
   "outputs": [
    {
     "name": "stdout",
     "output_type": "stream",
     "text": [
      "Calculateing adj matrix using histology image...\n",
      "Var of c0,c1,c2 =  33.30687202862215 174.55510595352243 46.84205750749746\n",
      "Var of x,y,z =  5606737.526317932 4468793.817921193 5606737.526317932\n"
     ]
    }
   ],
   "source": [
    "#Calculate adjacent matrix\n",
    "s=1\n",
    "b=49\n",
    "adj=spg.calculate_adj_matrix(x=x_pixel,y=y_pixel, x_pixel=x_pixel, y_pixel=y_pixel, image=img, beta=b, alpha=s, histology=True)\n",
    "np.savetxt('../dataset/DLPFC/151673/adj.csv', adj, delimiter=',')"
   ]
  },
  {
   "cell_type": "code",
   "execution_count": 36,
   "metadata": {},
   "outputs": [
    {
     "name": "stdout",
     "output_type": "stream",
     "text": [
      "WARNING: adata.X seems to be already log-transformed.\n"
     ]
    }
   ],
   "source": [
    "#Expression data preprocessing\n",
    "adj=np.loadtxt('../dataset/DLPFC/151673/adj.csv', delimiter=',')\n",
    "adata.var_names_make_unique()\n",
    "spg.prefilter_genes(adata,min_cells=3) # avoiding all genes are zeros\n",
    "spg.prefilter_specialgenes(adata)\n",
    "#Normalize and take log for UMI\n",
    "sc.pp.normalize_per_cell(adata)\n",
    "sc.pp.log1p(adata)"
   ]
  },
  {
   "cell_type": "markdown",
   "metadata": {},
   "source": [
    "**5.2 Set hyper-parameters\n",
    "p: Percentage of total expression contributed by neighborhoods.\n",
    "l: Parameter to control p.**"
   ]
  },
  {
   "cell_type": "code",
   "execution_count": 37,
   "metadata": {},
   "outputs": [
    {
     "name": "stdout",
     "output_type": "stream",
     "text": [
      "Run 1: l [0.01, 1000], p [0.0, 153.8820492650696]\n",
      "Run 2: l [0.01, 500.005], p [0.0, 28.015447343094223]\n",
      "Run 3: l [0.01, 250.0075], p [0.0, 4.240330523308446]\n",
      "Run 4: l [0.01, 125.00874999999999], p [0.0, 0.5157276735032843]\n",
      "Run 5: l [62.509375, 125.00874999999999], p [0.028496868560644373, 0.5157276735032843]\n",
      "Run 6: l [93.7590625, 125.00874999999999], p [0.18753135107474428, 0.5157276735032843]\n",
      "Run 7: l [109.38390625, 125.00874999999999], p [0.32801349789332424, 0.5157276735032843]\n",
      "Run 8: l [117.196328125, 125.00874999999999], p [0.4156469508032292, 0.5157276735032843]\n",
      "Run 9: l [121.1025390625, 125.00874999999999], p [0.4640926787304587, 0.5157276735032843]\n",
      "Run 10: l [123.05564453125, 125.00874999999999], p [0.48950676051756026, 0.5157276735032843]\n",
      "recommended l =  124.032197265625\n"
     ]
    }
   ],
   "source": [
    "p=0.5 \n",
    "#Find the l value given p\n",
    "l=spg.search_l(p, adj, start=0.01, end=1000, tol=0.01, max_run=100)"
   ]
  },
  {
   "cell_type": "markdown",
   "metadata": {},
   "source": [
    "n_clusters: Number of spatial domains wanted.\n",
    "res: Resolution in the initial Louvain's Clustering methods. If the number of clusters is known, we can use the spg.search_res() fnction to search for suitable resolution(optional)."
   ]
  },
  {
   "cell_type": "code",
   "execution_count": 38,
   "metadata": {},
   "outputs": [
    {
     "name": "stdout",
     "output_type": "stream",
     "text": [
      "Start at res =  0.7 step =  0.1\n",
      "Initializing cluster centers with louvain, resolution =  0.7\n",
      "Epoch  0\n",
      "Epoch  10\n",
      "Res =  0.7 Num of clusters =  6\n",
      "Initializing cluster centers with louvain, resolution =  0.7999999999999999\n",
      "Epoch  0\n",
      "Epoch  10\n",
      "Res =  0.7999999999999999 Num of clusters =  7\n",
      "recommended res =  0.7999999999999999\n"
     ]
    }
   ],
   "source": [
    "#For this data, we set the number of clusters=7 since this tissue has 7 layers\n",
    "n_clusters=7\n",
    "#Set seed\n",
    "r_seed=t_seed=n_seed=100\n",
    "#Search for suitable resolution\n",
    "res=spg.search_res(adata, adj, l, n_clusters, start=0.7, step=0.1, tol=5e-3, lr=0.05, max_epochs=20, r_seed=r_seed, t_seed=t_seed, n_seed=n_seed)\n"
   ]
  },
  {
   "cell_type": "code",
   "execution_count": 39,
   "metadata": {},
   "outputs": [
    {
     "name": "stdout",
     "output_type": "stream",
     "text": [
      "Initializing cluster centers with louvain, resolution =  0.7999999999999999\n",
      "Epoch  0\n",
      "Epoch  10\n",
      "Epoch  20\n",
      "Epoch  30\n",
      "Epoch  40\n",
      "Epoch  50\n",
      "Epoch  60\n",
      "Epoch  70\n",
      "Epoch  80\n",
      "Epoch  90\n",
      "Epoch  100\n",
      "Epoch  110\n",
      "Epoch  120\n",
      "Epoch  130\n",
      "Epoch  140\n",
      "Epoch  150\n",
      "Epoch  160\n",
      "Epoch  170\n",
      "Epoch  180\n",
      "Epoch  190\n"
     ]
    }
   ],
   "source": [
    "clf=spg.SpaGCN()\n",
    "clf.set_l(l)\n",
    "#Set seed\n",
    "random.seed(r_seed)\n",
    "torch.manual_seed(t_seed)\n",
    "np.random.seed(n_seed)\n",
    "#Run\n",
    "clf.train(adata,adj,init_spa=True,init=\"louvain\",res=res, tol=5e-3, lr=0.05, max_epochs=200)\n",
    "adata.obs[\"mclust\"]= mclust_array\n",
    "adata.obs[\"mclust\"]=adata.obs[\"mclust\"].astype('category')"
   ]
  },
  {
   "cell_type": "markdown",
   "metadata": {},
   "source": [
    "**Identify SVGs**"
   ]
  },
  {
   "cell_type": "code",
   "execution_count": 43,
   "metadata": {},
   "outputs": [
    {
     "data": {
      "text/plain": [
       "AnnData object with n_obs × n_vars = 3639 × 33538\n",
       "    obs: 'in_tissue', 'x_array', 'y_array', 'x_pixel', 'y_pixel'\n",
       "    var: 'gene_ids', 'feature_types', 'genome'\n",
       "    uns: 'spatial'\n",
       "    obsm: 'spatial'"
      ]
     },
     "execution_count": 43,
     "metadata": {},
     "output_type": "execute_result"
    }
   ],
   "source": [
    "#Read in raw data\n",
    "raw=sc.read(\"../dataset/DLPFC/151673/processed_data.h5ad\")\n",
    "raw"
   ]
  },
  {
   "cell_type": "code",
   "execution_count": 44,
   "metadata": {},
   "outputs": [],
   "source": [
    "raw.var_names_make_unique()\n",
    "raw.obs[\"mclust\"]=adata.obs[\"mclust\"].astype('category')\n",
    "#Convert sparse matrix to non-sparse\n",
    "raw.X=(raw.X.A if issparse(raw.X) else raw.X)\n",
    "sc.pp.log1p(raw)"
   ]
  },
  {
   "cell_type": "code",
   "execution_count": 46,
   "metadata": {},
   "outputs": [],
   "source": [
    "def rank_genes_groups(input_adata, target_cluster,nbr_list, label_col, adj_nbr=True, log=False):\n",
    "    if adj_nbr:\n",
    "        nbr_list=nbr_list+[target_cluster]\n",
    "        adata=input_adata[input_adata.obs[label_col].isin(nbr_list)]\n",
    "    else:\n",
    "        adata=input_adata.copy()\n",
    "    adata.var_names_make_unique()\n",
    "    adata.obs[\"target\"]=((adata.obs[label_col]==target_cluster)*1).astype('category')\n",
    "    # print(f'adata_obs_target:\\n{adata.obs[\"target\"]}')\n",
    "    sc.tl.rank_genes_groups(adata, groupby=\"target\",reference=\"rest\", n_genes=adata.shape[1],method='wilcoxon')\n",
    "    pvals_adj=[i[0] for i in adata.uns['rank_genes_groups'][\"pvals_adj\"]]\n",
    "    genes=[i[1] for i in adata.uns['rank_genes_groups'][\"names\"]]\n",
    "    # print('pvals_adj', '\\n', pvals_adj)\n",
    "    # print('genes', '\\n', genes)\n",
    "    if issparse(adata.X):\n",
    "        obs_tidy=pd.DataFrame(adata.X.A)\n",
    "    else:\n",
    "        obs_tidy=pd.DataFrame(adata.X)\n",
    "    obs_tidy.index=adata.obs[\"target\"].tolist()\n",
    "    obs_tidy.columns=adata.var.index.tolist()\n",
    "    obs_tidy=obs_tidy.loc[:,genes]\n",
    "    # print('obs_tidy:')\n",
    "    # print(obs_tidy.head())\n",
    "    # 1. compute mean value\n",
    "    mean_obs = obs_tidy.groupby(level=0).mean()\n",
    "    # 邻域内(0)某基因表达量的均值  目标内(1)某基因表达量的均值\n",
    "    # 2. compute fraction of cells having value >0\n",
    "    obs_bool = obs_tidy.astype(bool)\n",
    "    # print('obs_bool:')\n",
    "    # print(obs_bool.head())\n",
    "    # print('index layer num:', obs_bool.index.nlevels)\n",
    "    fraction_obs = obs_bool.groupby(level=0).sum() / obs_bool.groupby(level=0).count()\n",
    "    # 在邻域内表达某基因的细胞个数sum[0]/临域内的细胞总数count[0]  \n",
    "    # 在目标域内表达某基因的细胞个数sum[1]/目标域内的细胞总数count[1]  \n",
    "    # print('obs_bool:\\n', obs_bool)\n",
    "    # print('fraction_obs:sum & count\\n', obs_bool.groupby(level=0).sum(), obs_bool.groupby(level=0).count())\n",
    "    # print('fraction_obs:\\n', fraction_obs)\n",
    "    \n",
    "    # print('mean_obs.loc', mean_obs.loc[1], '\\n', mean_obs.loc[0])\n",
    "    # compute fold change.\n",
    "    if log: #The adata already logged\n",
    "        fold_change=np.exp((mean_obs.loc[1] - mean_obs.loc[0]).values)\n",
    "    else:\n",
    "        fold_change = (mean_obs.loc[1] / (mean_obs.loc[0]+ 1e-9)).values\n",
    "    df = {'genes': genes, 'in_group_fraction': fraction_obs.loc[1].tolist(), \"out_group_fraction\":fraction_obs.loc[0].tolist(),\"in_out_group_ratio\":(fraction_obs.loc[1]/fraction_obs.loc[0]).tolist(),\"in_group_mean_exp\": mean_obs.loc[1].tolist(), \"out_group_mean_exp\": mean_obs.loc[0].tolist(),\"fold_change\":fold_change.tolist(), \"pvals_adj\":pvals_adj}\n",
    "    df = pd.DataFrame(data=df)\n",
    "    return df"
   ]
  },
  {
   "cell_type": "code",
   "execution_count": 47,
   "metadata": {},
   "outputs": [],
   "source": [
    "def find_neighbor_clusters(target_cluster,cell_id, x, y, pred,radius, ratio=1/2):\n",
    "    cluster_num = dict()\n",
    "    for i in pred:\n",
    "        cluster_num[i] = cluster_num.get(i, 0) + 1\n",
    "    df = {'cell_id': cell_id, 'x': x, \"y\":y, \"pred\":pred}\n",
    "    df = pd.DataFrame(data=df)\n",
    "    df.index=df['cell_id']\n",
    "    target_df=df[df[\"pred\"]==target_cluster]\n",
    "    nbr_num={}\n",
    "    row_index=0\n",
    "    num_nbr=[]\n",
    "    for index, row in target_df.iterrows():\n",
    "        x=row[\"x\"]\n",
    "        y=row[\"y\"]\n",
    "        tmp_nbr=df[((df[\"x\"]-x)**2+(df[\"y\"]-y)**2)<=(radius**2)]\n",
    "        #tmp_nbr=df[(df[\"x\"]<x+radius) & (df[\"x\"]>x-radius) & (df[\"y\"]<y+radius) & (df[\"y\"]>y-radius)]\n",
    "        num_nbr.append(tmp_nbr.shape[0])\n",
    "        for p in tmp_nbr[\"pred\"]:\n",
    "            nbr_num[p]=nbr_num.get(p,0)+1\n",
    "    del nbr_num[target_cluster]\n",
    "    nbr_num_back=nbr_num.copy() #Backup\n",
    "    nbr_num=[(k, v)  for k, v in nbr_num.items() if v>(ratio*cluster_num[k])]\n",
    "    nbr_num.sort(key=lambda x: -x[1])\n",
    "    print(\"radius=\", radius, \"average number of neighbors for each spot is\", np.mean(num_nbr))\n",
    "    print(\" Cluster\",target_cluster, \"has neighbors:\")\n",
    "    for t in nbr_num:\n",
    "        print(\"Dmain \", t[0], \": \",t[1])\n",
    "    ret=[t[0] for t in nbr_num]\n",
    "    if len(ret)==0:\n",
    "        nbr_num_back=[(k, v)  for k, v in nbr_num_back.items()]\n",
    "        nbr_num_back.sort(key=lambda x: -x[1])\n",
    "        ret=[nbr_num_back[0][0]]\n",
    "        print(\"No neighbor domain found, only return one potential neighbor domain:\",ret)\n",
    "        print(\"Try bigger radius or smaller ratio.\")\n",
    "    return ret"
   ]
  },
  {
   "cell_type": "code",
   "execution_count": 48,
   "metadata": {},
   "outputs": [],
   "source": [
    "def getXX(target):\n",
    "   \n",
    "    #Search radius such that each spot in the target domain has approximately 10 neighbors on average\n",
    "    adj_2d=spg.calculate_adj_matrix(x=x_array, y=y_array, histology=False)\n",
    "    start, end= np.quantile(adj_2d[adj_2d!=0],q=0.001), np.quantile(adj_2d[adj_2d!=0],q=0.1)\n",
    "    r=spg.search_radius(target_cluster=target, cell_id=adata.obs.index.tolist(), x=x_array, y=y_array, pred=adata.obs[\"mclust\"].tolist(), start=start, end=end, num_min=10, num_max=14,  max_run=100)\n",
    "    #Detect neighboring domains\n",
    "    nbr_domians=find_neighbor_clusters(target_cluster=target,\n",
    "                                    cell_id=raw.obs.index.tolist(), \n",
    "                                    x=raw.obs[\"x_array\"].tolist(), \n",
    "                                    y=raw.obs[\"y_array\"].tolist(), \n",
    "                                    pred=raw.obs[\"mclust\"].tolist(),\n",
    "                                    radius=r,\n",
    "                                    ratio=1/2)\n",
    "    return nbr_domians"
   ]
  },
  {
   "cell_type": "code",
   "execution_count": 49,
   "metadata": {},
   "outputs": [
    {
     "name": "stdout",
     "output_type": "stream",
     "text": [
      "Calculateing adj matrix using xy only...\n",
      "Calculateing adj matrix using xy only...\n",
      "Calculateing adj matrix using xy only...\n",
      "Run 1: radius [1.4142135381698608, 16.970561981201172], num_nbr [1.0, 354.74418604651163]\n",
      "Calculateing adj matrix using xy only...\n",
      "Run 2: radius [1.4142135381698608, 9.192387759685516], num_nbr [1.0, 122.48172757475083]\n",
      "Calculateing adj matrix using xy only...\n",
      "Run 3: radius [1.4142135381698608, 5.303300648927689], num_nbr [1.0, 42.23421926910299]\n",
      "Calculateing adj matrix using xy only...\n",
      "Run 4: radius [1.4142135381698608, 3.3587570935487747], num_nbr [1.0, 20.088039867109636]\n",
      "Calculateing adj matrix using xy only...\n",
      "Run 5: radius [2.386485315859318, 3.3587570935487747], num_nbr [8.745847176079733, 20.088039867109636]\n",
      "Calculateing adj matrix using xy only...\n",
      "recommended radius =  2.8726212047040462 num_nbr=12.529900332225914\n",
      "radius= 2.8726212047040462 average number of neighbors for each spot is 12.529900332225914\n",
      " Cluster 1 has neighbors:\n",
      "Dmain  6 :  387\n",
      "Calculateing adj matrix using xy only...\n",
      "Calculateing adj matrix using xy only...\n",
      "Calculateing adj matrix using xy only...\n",
      "Run 1: radius [1.4142135381698608, 16.970561981201172], num_nbr [1.0, 245.5088339222615]\n",
      "Calculateing adj matrix using xy only...\n",
      "Run 2: radius [1.4142135381698608, 9.192387759685516], num_nbr [1.0, 89.87632508833923]\n",
      "Calculateing adj matrix using xy only...\n",
      "Run 3: radius [1.4142135381698608, 5.303300648927689], num_nbr [1.0, 32.936395759717314]\n",
      "Calculateing adj matrix using xy only...\n",
      "Run 4: radius [1.4142135381698608, 3.3587570935487747], num_nbr [1.0, 16.51590106007067]\n",
      "Calculateing adj matrix using xy only...\n",
      "Run 5: radius [2.386485315859318, 3.3587570935487747], num_nbr [7.6431095406360425, 16.51590106007067]\n",
      "Calculateing adj matrix using xy only...\n",
      "recommended radius =  2.8726212047040462 num_nbr=10.597173144876326\n",
      "radius= 2.8726212047040462 average number of neighbors for each spot is 10.597173144876326\n",
      " Cluster 2 has neighbors:\n",
      "Dmain  5 :  369\n",
      "Calculateing adj matrix using xy only...\n",
      "Calculateing adj matrix using xy only...\n",
      "Calculateing adj matrix using xy only...\n",
      "Run 1: radius [1.4142135381698608, 16.970561981201172], num_nbr [1.0, 352.93243243243245]\n",
      "Calculateing adj matrix using xy only...\n",
      "Run 2: radius [1.4142135381698608, 9.192387759685516], num_nbr [1.0, 124.62934362934362]\n",
      "Calculateing adj matrix using xy only...\n",
      "Run 3: radius [1.4142135381698608, 5.303300648927689], num_nbr [1.0, 42.513513513513516]\n",
      "Calculateing adj matrix using xy only...\n",
      "Run 4: radius [1.4142135381698608, 3.3587570935487747], num_nbr [1.0, 20.096525096525095]\n",
      "Calculateing adj matrix using xy only...\n",
      "Run 5: radius [2.386485315859318, 3.3587570935487747], num_nbr [8.714285714285714, 20.096525096525095]\n",
      "Calculateing adj matrix using xy only...\n",
      "recommended radius =  2.8726212047040462 num_nbr=12.53088803088803\n",
      "radius= 2.8726212047040462 average number of neighbors for each spot is 12.53088803088803\n",
      " Cluster 3 has neighbors:\n",
      "Dmain  5 :  662\n",
      "Dmain  4 :  660\n",
      "Calculateing adj matrix using xy only...\n",
      "Calculateing adj matrix using xy only...\n",
      "Calculateing adj matrix using xy only...\n",
      "Run 1: radius [1.4142135381698608, 16.970561981201172], num_nbr [1.0, 401.61581920903956]\n",
      "Calculateing adj matrix using xy only...\n",
      "Run 2: radius [1.4142135381698608, 9.192387759685516], num_nbr [1.0, 130.72693032015067]\n",
      "Calculateing adj matrix using xy only...\n",
      "Run 3: radius [1.4142135381698608, 5.303300648927689], num_nbr [1.0, 43.64783427495292]\n",
      "Calculateing adj matrix using xy only...\n",
      "Run 4: radius [1.4142135381698608, 3.3587570935487747], num_nbr [1.0, 20.51412429378531]\n",
      "Calculateing adj matrix using xy only...\n",
      "Run 5: radius [2.386485315859318, 3.3587570935487747], num_nbr [8.849340866290019, 20.51412429378531]\n",
      "Calculateing adj matrix using xy only...\n",
      "recommended radius =  2.8726212047040462 num_nbr=12.743879472693033\n",
      "radius= 2.8726212047040462 average number of neighbors for each spot is 12.743879472693033\n",
      " Cluster 4 has neighbors:\n",
      "Dmain  3 :  660\n",
      "Dmain  7 :  554\n",
      "Calculateing adj matrix using xy only...\n",
      "Calculateing adj matrix using xy only...\n",
      "Calculateing adj matrix using xy only...\n",
      "Run 1: radius [1.4142135381698608, 16.970561981201172], num_nbr [1.0, 290.8695652173913]\n",
      "Calculateing adj matrix using xy only...\n",
      "Run 2: radius [1.4142135381698608, 9.192387759685516], num_nbr [1.0, 109.32125603864735]\n",
      "Calculateing adj matrix using xy only...\n",
      "Run 3: radius [1.4142135381698608, 5.303300648927689], num_nbr [1.0, 40.20531400966183]\n",
      "Calculateing adj matrix using xy only...\n",
      "Run 4: radius [1.4142135381698608, 3.3587570935487747], num_nbr [1.0, 19.553140096618357]\n",
      "Calculateing adj matrix using xy only...\n",
      "Run 5: radius [2.386485315859318, 3.3587570935487747], num_nbr [8.6256038647343, 19.553140096618357]\n",
      "Calculateing adj matrix using xy only...\n",
      "recommended radius =  2.8726212047040462 num_nbr=12.27536231884058\n",
      "radius= 2.8726212047040462 average number of neighbors for each spot is 12.27536231884058\n",
      " Cluster 5 has neighbors:\n",
      "Dmain  3 :  662\n",
      "Dmain  2 :  369\n",
      "Calculateing adj matrix using xy only...\n",
      "Calculateing adj matrix using xy only...\n",
      "Calculateing adj matrix using xy only...\n",
      "Run 1: radius [1.4142135381698608, 16.970561981201172], num_nbr [1.0, 400.62158273381294]\n",
      "Calculateing adj matrix using xy only...\n",
      "Run 2: radius [1.4142135381698608, 9.192387759685516], num_nbr [1.0, 129.78705035971223]\n",
      "Calculateing adj matrix using xy only...\n",
      "Run 3: radius [1.4142135381698608, 5.303300648927689], num_nbr [1.0, 43.43597122302158]\n",
      "Calculateing adj matrix using xy only...\n",
      "Run 4: radius [1.4142135381698608, 3.3587570935487747], num_nbr [1.0, 20.450359712230217]\n",
      "Calculateing adj matrix using xy only...\n",
      "Run 5: radius [2.386485315859318, 3.3587570935487747], num_nbr [8.83884892086331, 20.450359712230217]\n",
      "Calculateing adj matrix using xy only...\n",
      "recommended radius =  2.8726212047040462 num_nbr=12.70935251798561\n",
      "radius= 2.8726212047040462 average number of neighbors for each spot is 12.70935251798561\n",
      " Cluster 6 has neighbors:\n",
      "Dmain  7 :  494\n",
      "Dmain  1 :  387\n",
      "Calculateing adj matrix using xy only...\n",
      "Calculateing adj matrix using xy only...\n",
      "Calculateing adj matrix using xy only...\n",
      "Run 1: radius [1.4142135381698608, 16.970561981201172], num_nbr [1.0, 411.8204697986577]\n",
      "Calculateing adj matrix using xy only...\n",
      "Run 2: radius [1.4142135381698608, 9.192387759685516], num_nbr [1.0, 133.06208053691276]\n",
      "Calculateing adj matrix using xy only...\n",
      "Run 3: radius [1.4142135381698608, 5.303300648927689], num_nbr [1.0, 44.33724832214765]\n",
      "Calculateing adj matrix using xy only...\n",
      "Run 4: radius [1.4142135381698608, 3.3587570935487747], num_nbr [1.0, 20.803691275167786]\n",
      "Calculateing adj matrix using xy only...\n",
      "Run 5: radius [2.386485315859318, 3.3587570935487747], num_nbr [8.953020134228188, 20.803691275167786]\n",
      "Calculateing adj matrix using xy only...\n",
      "recommended radius =  2.8726212047040462 num_nbr=12.906040268456376\n",
      "radius= 2.8726212047040462 average number of neighbors for each spot is 12.906040268456376\n",
      " Cluster 7 has neighbors:\n",
      "Dmain  4 :  554\n",
      "Dmain  6 :  494\n"
     ]
    }
   ],
   "source": [
    "adj_matrix = dict()\n",
    "for i in range(1, n_clusters + 1):\n",
    "    adj_matrix[i] = getXX(i)"
   ]
  },
  {
   "cell_type": "code",
   "execution_count": 52,
   "metadata": {},
   "outputs": [
    {
     "name": "stdout",
     "output_type": "stream",
     "text": [
      "SVGs for domain  1 : ['MBP', 'TMSB4X', 'TUBA1A', 'PLP1', 'FTH1', 'RPLP1', 'CNP', 'CRYAB', 'GFAP', 'RPL41', 'EEF1A1', 'FTL', 'RPL34', 'PTGDS', 'RPL28', 'RPL37', 'RPL37A', 'RPL32', 'RPS12', 'RPS27A', 'RPL13', 'S100B', 'RPL30', 'RPS15', 'RPL10', 'RPL19', 'TF', 'ITM2B', 'RPS28', 'RPS8', 'RPL13A', 'RPS21', 'RPS24', 'RPS23', 'APLP1', 'MOBP', 'RPLP2', 'RPL11', 'FAU', 'RPS27', 'TPT1', 'RPL21', 'RPS29', 'PTMA', 'RPS14', 'DPYSL2', 'RPL8', 'EIF1', 'RPL36', 'GPM6B', 'MTURN', 'RPS18', 'SCD', 'RPL29', 'RPL18', 'MARCKSL1', 'RPL35A', 'ATP5ME', 'CLDND1', 'RPL38', 'RPL4', 'SEPT4', 'MALAT1', 'RPS13', 'SERF2', 'C4orf48', 'APOD', 'RPL39', 'RPS15A', 'RPS19', 'GLUL', 'RPL35', 'PLEKHB1', 'RPS25', 'PPP1R14A', 'RPS4X', 'SPP1', 'QKI', 'RPL12', 'RNASE1', 'RPL22', 'GPRC5B', 'RPSA', 'RPL24', 'QDPR', 'RPL23A', 'MAG', 'RPS6', 'FEZ1', 'RPS3', 'CSRP1', 'B2M', 'PAQR6', 'NDRG2', 'RPS7', 'TUBB4A', 'RPS16', 'TSC22D4', 'RPS9', 'RPS5', 'SEPT7', 'PEA15', 'CD81', 'RPS10', 'MT2A', 'SELENOP', 'ERMN', 'SCD5', 'ABCA2', 'CLDN11', 'GSN', 'PPDPF', 'LINC00844', 'NENF', 'BCAS1', 'H3F3B', 'SIRT2', 'YWHAQ', 'H3F3A', 'EDIL3']\n",
      "Number of entries in the 'genes' column: 120\n",
      "SVGs for domain  2 : []\n",
      "Number of entries in the 'genes' column: 0\n",
      "SVGs for domain  3 : []\n",
      "Number of entries in the 'genes' column: 0\n",
      "SVGs for domain  4 : ['NEFL', 'NEFM', 'LGALS1', 'SCN1B']\n",
      "Number of entries in the 'genes' column: 4\n",
      "SVGs for domain  5 : []\n",
      "Number of entries in the 'genes' column: 0\n",
      "SVGs for domain  6 : ['NRGN', 'CCK', 'CHN1', 'SYT1', 'THY1', 'SLC17A7', 'ENC1', 'FBXL16', 'DKK3']\n",
      "Number of entries in the 'genes' column: 9\n",
      "SVGs for domain  7 : ['TMSB10', 'TUBB2A', 'PCP4']\n",
      "Number of entries in the 'genes' column: 3\n"
     ]
    }
   ],
   "source": [
    "#Set filtering criterials\n",
    "min_in_group_fraction=0.8\n",
    "min_in_out_group_ratio=1.0\n",
    "min_fold_change=1.2\n",
    "one_adj_filtered_info_ls = []\n",
    "for i in list(adj_matrix.keys()):\n",
    "    if (len(adj_matrix[i]) == 0):\n",
    "        continue\n",
    "    \n",
    "    target = i\n",
    "    \n",
    "    de_genes_info = rank_genes_groups(input_adata=raw,\n",
    "                                target_cluster=target,\n",
    "                                nbr_list=adj_matrix[target],\n",
    "                                label_col=\"mclust\",\n",
    "                                adj_nbr=True,\n",
    "                                log=True)\n",
    "    \n",
    "    \n",
    "    #Filter genes\n",
    "    de_genes_info=de_genes_info[(de_genes_info[\"pvals_adj\"]<0.05)]\n",
    "    \n",
    "    de_genes_info=de_genes_info[(de_genes_info[\"pvals_adj\"]<0.05) &\n",
    "                                (de_genes_info[\"in_out_group_ratio\"]>min_in_out_group_ratio) &\n",
    "                                (de_genes_info[\"in_group_fraction\"]>min_in_group_fraction) &\n",
    "                                (de_genes_info[\"fold_change\"]>min_fold_change) ]\n",
    "    de_genes_info=de_genes_info.sort_values(by=\"in_group_fraction\", ascending=False)\n",
    "    de_genes_info[\"target_dmain\"]=target\n",
    "    de_genes_info[\"neighbors\"]=str(adj_matrix[target])\n",
    "    print(\"SVGs for domain \", str(target),\":\", de_genes_info[\"genes\"].tolist())\n",
    "    genes_count = len(de_genes_info['genes'])\n",
    "    print(\"Number of entries in the 'genes' column:\", genes_count)\n",
    "    # print(de_genes_info)\n",
    "    one_adj_filtered_info_ls.append(de_genes_info)\n"
   ]
  },
  {
   "cell_type": "code",
   "execution_count": 58,
   "metadata": {},
   "outputs": [],
   "source": [
    "def adj_squre():\n",
    "    rst = dict()\n",
    "    for i in list(adj_matrix.keys()):\n",
    "        tmp = adj_matrix[i]\n",
    "        cur = set()\n",
    "        for j in tmp:\n",
    "            for k in adj_matrix[j]:\n",
    "                if i == k or k in tmp:\n",
    "                    continue\n",
    "                for m in adj_matrix[k]:\n",
    "                    if m == i or m in tmp:\n",
    "                        continue\n",
    "                    cur.add(m)\n",
    "        \n",
    "        rst[i] = cur\n",
    "    \n",
    "    for i in list(rst.keys()):\n",
    "        for j in list(rst[i]):\n",
    "            rst[j].add(i)\n",
    "    \n",
    "    for i in list(rst.keys()):     \n",
    "        rst[i] = list(rst[i])\n",
    "        \n",
    "    \n",
    "    print(rst)\n",
    "    print(type(rst))\n",
    "    return rst"
   ]
  },
  {
   "cell_type": "code",
   "execution_count": 59,
   "metadata": {},
   "outputs": [
    {
     "name": "stdout",
     "output_type": "stream",
     "text": [
      "{1: [4], 2: [4], 3: [6], 4: [1, 2], 5: [7], 6: [3], 7: [5]}\n",
      "<class 'dict'>\n"
     ]
    }
   ],
   "source": [
    "#二阶邻域\n",
    "second_adj = adj_squre()"
   ]
  },
  {
   "cell_type": "code",
   "execution_count": 60,
   "metadata": {},
   "outputs": [
    {
     "name": "stdout",
     "output_type": "stream",
     "text": [
      "SVGs for domain  1 : ['MBP', 'PLP1', 'CNP', 'TUBA1A', 'CRYAB', 'GFAP', 'EEF1A1', 'FTL', 'PTGDS', 'RPL28', 'RPL37', 'RPS12', 'S100B', 'RPL30', 'RPL10', 'TF', 'RPS8', 'MOBP', 'APLP1', 'RPL11', 'RPS27', 'PTMA', 'GPM6B', 'MTURN', 'SCD', 'MARCKSL1', 'CLDND1', 'SEPT4', 'APOD', 'RPS15A', 'PLEKHB1', 'PPP1R14A', 'SPP1', 'QKI', 'RNASE1', 'GPRC5B', 'QDPR', 'MAG', 'FEZ1', 'CSRP1', 'B2M', 'SCGB2A2', 'PAQR6', 'TSC22D4', 'PEA15', 'MT2A', 'ERMN', 'SELENOP', 'ABCA2', 'CLDN11', 'GSN', 'PPDPF', 'NENF', 'LINC00844', 'BCAS1', 'H3F3B', 'SIRT2', 'H3F3A', 'EDIL3']\n",
      "Number of entries in the 'genes' column: 59\n",
      "SVGs for domain  2 : ['GFAP']\n",
      "Number of entries in the 'genes' column: 1\n",
      "SVGs for domain  3 : ['MT-ND3', 'GAPDH', 'RPL41', 'OLFM1', 'CKB', 'NDUFA4', 'COX6A1', 'NRGN', 'CALM1', 'CAMK2N1', 'TMSB4X', 'MT-ND5', 'ENC1', 'MTRNR2L12', 'VSNL1', 'YWHAH', 'CALM3', 'ATP1B1', 'PCSK1N', 'MT-ND4L', 'TPI1', 'UBC', 'ATP5MD', 'TSC22D1', 'ATP1A1', 'NEFL', 'GAP43', 'MTRNR2L8', 'MT-ATP8', 'SLC22A17', 'COX8A', 'NDUFA3', 'ATP1A3', 'PIN1', 'MEG3', 'SNCG', 'HOPX', 'MEF2C', 'NEFM']\n",
      "Number of entries in the 'genes' column: 39\n",
      "SVGs for domain  4 : ['MTRNR2L12', 'NRGN', 'MT-ND2', 'GAPDH', 'CLU', 'TMSB10', 'MT-ND3', 'MT-ND5', 'CKB', 'CALM2', 'CALM1', 'SNAP25', 'NDUFA4', 'COX6A1', 'TUBA1B', 'GNAS', 'RTN1', 'ATP1B1', 'TMSB4X', 'OLFM1', 'HSP90AA1', 'ACTB', 'UCHL1', 'MAP1B', 'COX4I1', 'NEFL', 'COX6C', 'STMN1', 'PPIA', 'YWHAH', 'VSNL1', 'HSP90AB1', 'RTN3', 'CCK', 'PEBP1', 'ACTG1', 'CALM3', 'HSPA8', 'SPARCL1', 'UBC', 'THY1', 'TPI1', 'COX5B', 'ATP5F1E', 'YWHAZ', 'TUBB2A', 'MT-ND4L', 'CAMK2N1', 'UQCRB', 'CFL1', 'PCSK1N', 'ENC1', 'SYT1', 'CHN1', 'PKM', 'YWHAG', 'GPM6A', 'NORAD', 'DYNLL1', 'SNRPN', 'SNCB', 'ATP5MD', 'BASP1', 'AP2M1', 'ATP5F1B', 'DNM1', 'EIF4A2', 'IDS', 'COX7C', 'GAP43', 'STMN2', 'RTN4', 'OAZ1', 'HINT1', 'UQCRQ', 'UQCR11', 'EEF1A2', 'VAMP2', 'LDHB', 'TSC22D1', 'ENO2', 'SLC17A7', 'PGAM1', 'NDRG4', 'ATP1A3', 'TSPAN7', 'ALDOC', 'BEX1', 'MDH1', 'ARPP19', 'GPX4', 'APP', 'COX8A', 'BEX3', 'STXBP1', 'PRNP', 'ITM2C', 'MTRNR2L8', 'LMO4', 'CLSTN1', 'ATP1A1', 'TMEM59L', 'SERPINI1', 'SYP', 'UQCRH', 'COX7A2', 'SOD1', 'PLD3', 'MORF4L1', 'ATP5MPL', 'C9orf16', 'PRKAR1B', 'GNG3', 'COX6B1', 'YWHAB', 'ATP5F1D', 'FBXL16', 'COPS9', 'SARAF', 'SLC22A17', 'CCNI', 'NDUFB2', 'KLC1', 'UQCR10', 'PRDX5', 'AES', 'NDFIP1', 'SPTBN1', 'MT-ATP8', 'SERINC1', 'NEFM', 'NDUFA3', 'PIN1', 'GDI1', 'STMN3', 'CABP1', 'CCDC85B', 'MAP2', 'GPI', 'NDUFS5', 'RAB3A', 'TSPYL1', 'PRDX2', 'FAIM2', 'RGS4', 'CLTC', 'ATP5MC3', 'MAP1A', 'MTCH1', 'GRIN1', 'PHYHIP', 'TUBB', 'NCS1', 'ATP5MF', 'SNCG', 'NSF', 'NCDN', 'RTL8C', 'PPP2R1A', 'PI4KA', 'ATP6V0B', 'DKK3', 'LGALS1', 'SPTAN1', 'GHITM', 'NAPB', 'MGST3', 'DSTN', 'ATP5PF', 'ATP5F1A', 'PREPL', 'ARF1', 'PPP3CA', 'CHCHD10', 'KIF5A', 'NDUFB1', 'TAGLN3', 'GNB1', 'PFN2', 'ATP2A2', 'PGK1', 'ATP2B2', 'TMEM160', 'COX7B', 'RAB6B', 'NPTN', 'ARF3', 'ARL6IP1', 'SCN1B', 'CHGA', 'SLC25A3', 'ATP5IF1', 'GABRA1', 'CTXN1', 'MEF2C', 'ATP6V1E1', 'SYN1', 'PINK1', 'B4GAT1', 'REEP5', 'SCG5', 'CTSB', 'TUBB4B', 'PTPRN', 'RHBDD2', 'GABARAPL1', 'SEZ6L2', 'RNF187', 'RUNDC3A', 'CALY', 'TUBA4A', 'LDHA', 'MOAP1', 'ATP5PO', 'DCLK1', 'TTC9B', 'GOT1', 'NCALD', 'CPLX1', 'DMTN', 'BEX2', 'NAPA', 'WSB2', 'CAMK2B', 'INA', 'ARHGDIG', 'APLP2']\n",
      "Number of entries in the 'genes' column: 227\n",
      "SVGs for domain  5 : ['CST3', 'ENC1', 'CALM1', 'MT-ND3', 'MT3', 'CLU', 'CAMK2N1', 'CCK', 'EEF1A1', 'MT-ND4L', 'PCSK1N', 'GPM6A', 'ARPP19', 'RTN4', 'RPL4', 'MALAT1', 'CTXN1', 'GRIN1', 'ITM2C', 'PHYHIP', 'MT-ATP8', 'APLP1', 'NCDN', 'C1orf61', 'PPP3CA', 'PRKCB', 'HOPX', 'NPTXR', 'HPCAL1', 'MEG3', 'PEA15', 'CAMK2A', 'MAST3', 'NGEF', 'C1QTNF4', 'ATP2B1', 'MT2A', 'GRIA2', 'PSD', 'CD63', 'FKBP1A', 'TTYH1', 'DDN', 'SERPINE2']\n",
      "Number of entries in the 'genes' column: 44\n",
      "SVGs for domain  6 : ['MBP', 'PLP1', 'GFAP', 'SCGB2A2', 'CRYAB']\n",
      "Number of entries in the 'genes' column: 5\n",
      "SVGs for domain  7 : ['TMSB10', 'SYT1', 'TUBA1B', 'SNAP25', 'MBP', 'STMN1', 'TUBB2A', 'MAP1B', 'NEFL', 'STMN2', 'PLP1', 'CCNI', 'NAPB', 'TTC9B', 'CPLX1', 'PCP4', 'SNCG', 'DCLK1', 'DIRAS2', 'LGALS1', 'SLC24A2', 'NEFM']\n",
      "Number of entries in the 'genes' column: 22\n"
     ]
    }
   ],
   "source": [
    "two_adj_filtered_info_ls = []\n",
    "for i in list(second_adj.keys()):\n",
    "    if (len(second_adj[i]) == 0):\n",
    "        continue\n",
    "    \n",
    "    target = i\n",
    "    \n",
    "    de_genes_info = rank_genes_groups(input_adata=raw,\n",
    "                                target_cluster=target,\n",
    "                                nbr_list=second_adj[target],\n",
    "                                label_col=\"mclust\",\n",
    "                                adj_nbr=True,\n",
    "                                log=True)\n",
    "    \n",
    "    \n",
    "    #Filter genes\n",
    "    de_genes_info=de_genes_info[(de_genes_info[\"pvals_adj\"]<0.05)]\n",
    "    filtered_info=de_genes_info\n",
    "    filtered_info=filtered_info[(filtered_info[\"pvals_adj\"]<0.05) &\n",
    "                                (filtered_info[\"in_out_group_ratio\"]>min_in_out_group_ratio) &\n",
    "                                (filtered_info[\"in_group_fraction\"]>min_in_group_fraction) &\n",
    "                                (filtered_info[\"fold_change\"]>min_fold_change)]\n",
    "    filtered_info=filtered_info.sort_values(by=\"in_group_fraction\", ascending=False)\n",
    "    filtered_info[\"target_dmain\"]=target\n",
    "    filtered_info[\"neighbors\"]=str(second_adj[target])\n",
    "    print(\"SVGs for domain \", str(target),\":\", filtered_info[\"genes\"].tolist())\n",
    "    genes_count = len(filtered_info['genes'])\n",
    "    print(\"Number of entries in the 'genes' column:\", genes_count)\n",
    "    # print(filtered_info)\n",
    "    two_adj_filtered_info_ls.append(filtered_info)\n",
    "    # filtered_info.to_csv(f'./my_result/filtered_info_{i}.csv')"
   ]
  },
  {
   "cell_type": "code",
   "execution_count": 64,
   "metadata": {},
   "outputs": [],
   "source": [
    "def integration_one_two_adj_genes():\n",
    "    rst = np.array([])\n",
    "    for item in one_adj_filtered_info_ls:\n",
    "        rst = np.append(rst, item['genes'].values)\n",
    "    \n",
    "    for item in two_adj_filtered_info_ls:\n",
    "        rst = np.append(rst, item['genes'].values)\n",
    "    \n",
    "    return rst"
   ]
  },
  {
   "cell_type": "code",
   "execution_count": 65,
   "metadata": {},
   "outputs": [],
   "source": [
    "integration_genes_array = integration_one_two_adj_genes()"
   ]
  },
  {
   "cell_type": "code",
   "execution_count": 74,
   "metadata": {},
   "outputs": [
    {
     "data": {
      "text/plain": [
       "370"
      ]
     },
     "execution_count": 74,
     "metadata": {},
     "output_type": "execute_result"
    }
   ],
   "source": [
    "import squidpy as sq\n",
    "from squidpy import gr, im, pl, read, datasets\n",
    "\n",
    "integration_genes_array = np.unique(integration_genes_array)\n",
    "len(integration_genes_array)\n",
    "pd.Index(integration_genes_array)"
   ]
  },
  {
   "cell_type": "code",
   "execution_count": 77,
   "metadata": {},
   "outputs": [
    {
     "data": {
      "text/html": [
       "<div>\n",
       "<style scoped>\n",
       "    .dataframe tbody tr th:only-of-type {\n",
       "        vertical-align: middle;\n",
       "    }\n",
       "\n",
       "    .dataframe tbody tr th {\n",
       "        vertical-align: top;\n",
       "    }\n",
       "\n",
       "    .dataframe thead th {\n",
       "        text-align: right;\n",
       "    }\n",
       "</style>\n",
       "<table border=\"1\" class=\"dataframe\">\n",
       "  <thead>\n",
       "    <tr style=\"text-align: right;\">\n",
       "      <th></th>\n",
       "      <th>I</th>\n",
       "      <th>pval_norm</th>\n",
       "      <th>var_norm</th>\n",
       "      <th>pval_norm_fdr_bh</th>\n",
       "    </tr>\n",
       "  </thead>\n",
       "  <tbody>\n",
       "    <tr>\n",
       "      <th>MBP</th>\n",
       "      <td>0.817429</td>\n",
       "      <td>0.0</td>\n",
       "      <td>0.000092</td>\n",
       "      <td>0.0</td>\n",
       "    </tr>\n",
       "    <tr>\n",
       "      <th>SCGB2A2</th>\n",
       "      <td>0.749485</td>\n",
       "      <td>0.0</td>\n",
       "      <td>0.000092</td>\n",
       "      <td>0.0</td>\n",
       "    </tr>\n",
       "    <tr>\n",
       "      <th>MT-ND2</th>\n",
       "      <td>0.738200</td>\n",
       "      <td>0.0</td>\n",
       "      <td>0.000092</td>\n",
       "      <td>0.0</td>\n",
       "    </tr>\n",
       "    <tr>\n",
       "      <th>MT-ND3</th>\n",
       "      <td>0.713284</td>\n",
       "      <td>0.0</td>\n",
       "      <td>0.000092</td>\n",
       "      <td>0.0</td>\n",
       "    </tr>\n",
       "    <tr>\n",
       "      <th>PLP1</th>\n",
       "      <td>0.706320</td>\n",
       "      <td>0.0</td>\n",
       "      <td>0.000092</td>\n",
       "      <td>0.0</td>\n",
       "    </tr>\n",
       "    <tr>\n",
       "      <th>GFAP</th>\n",
       "      <td>0.645463</td>\n",
       "      <td>0.0</td>\n",
       "      <td>0.000092</td>\n",
       "      <td>0.0</td>\n",
       "    </tr>\n",
       "    <tr>\n",
       "      <th>MOBP</th>\n",
       "      <td>0.642673</td>\n",
       "      <td>0.0</td>\n",
       "      <td>0.000092</td>\n",
       "      <td>0.0</td>\n",
       "    </tr>\n",
       "    <tr>\n",
       "      <th>NRGN</th>\n",
       "      <td>0.629171</td>\n",
       "      <td>0.0</td>\n",
       "      <td>0.000092</td>\n",
       "      <td>0.0</td>\n",
       "    </tr>\n",
       "    <tr>\n",
       "      <th>FTH1</th>\n",
       "      <td>0.620985</td>\n",
       "      <td>0.0</td>\n",
       "      <td>0.000092</td>\n",
       "      <td>0.0</td>\n",
       "    </tr>\n",
       "    <tr>\n",
       "      <th>SNAP25</th>\n",
       "      <td>0.612782</td>\n",
       "      <td>0.0</td>\n",
       "      <td>0.000092</td>\n",
       "      <td>0.0</td>\n",
       "    </tr>\n",
       "  </tbody>\n",
       "</table>\n",
       "</div>"
      ],
      "text/plain": [
       "                I  pval_norm  var_norm  pval_norm_fdr_bh\n",
       "MBP      0.817429        0.0  0.000092               0.0\n",
       "SCGB2A2  0.749485        0.0  0.000092               0.0\n",
       "MT-ND2   0.738200        0.0  0.000092               0.0\n",
       "MT-ND3   0.713284        0.0  0.000092               0.0\n",
       "PLP1     0.706320        0.0  0.000092               0.0\n",
       "GFAP     0.645463        0.0  0.000092               0.0\n",
       "MOBP     0.642673        0.0  0.000092               0.0\n",
       "NRGN     0.629171        0.0  0.000092               0.0\n",
       "FTH1     0.620985        0.0  0.000092               0.0\n",
       "SNAP25   0.612782        0.0  0.000092               0.0"
      ]
     },
     "execution_count": 77,
     "metadata": {},
     "output_type": "execute_result"
    }
   ],
   "source": [
    "sq.gr.spatial_neighbors(raw, coord_type=\"generic\", delaunay=True)\n",
    "sq.gr.spatial_autocorr(raw, genes=pd.Index(integration_genes_array), use_raw=False, mode=\"moran\")\n",
    "raw.uns[\"moranI\"].head(10)"
   ]
  },
  {
   "cell_type": "code",
   "execution_count": 80,
   "metadata": {},
   "outputs": [
    {
     "name": "stdout",
     "output_type": "stream",
     "text": [
      "I列已成功保存为I_column.xlsx\n"
     ]
    }
   ],
   "source": [
    "import anndata as ad\n",
    "import pandas as pd\n",
    "# 从raw.uns中提取moranI\n",
    "moranI_data = raw.uns[\"moranI\"]\n",
    "\n",
    "# 将其转换为Pandas DataFrame（如果还不是DataFrame）\n",
    "if not isinstance(moranI_data, pd.DataFrame):\n",
    "    moranI_data = pd.DataFrame(moranI_data)\n",
    "\n",
    "# 提取I列\n",
    "I_column = moranI_data[[\"I\"]]  # 使用双中括号以保持DataFrame格式\n",
    "\n",
    "# 将I列存成Excel表格\n",
    "I_column.to_excel(\"../dataset/DLPFC/151673/GAADE_I_column.xlsx\", index=False)\n",
    "\n",
    "print(\"I列已成功保存为I_column.xlsx\")"
   ]
  }
 ],
 "metadata": {
  "kernelspec": {
   "display_name": "base",
   "language": "python",
   "name": "python3"
  },
  "language_info": {
   "codemirror_mode": {
    "name": "ipython",
    "version": 3
   },
   "file_extension": ".py",
   "mimetype": "text/x-python",
   "name": "python",
   "nbconvert_exporter": "python",
   "pygments_lexer": "ipython3",
   "version": "3.7.12"
  },
  "orig_nbformat": 4
 },
 "nbformat": 4,
 "nbformat_minor": 2
}
